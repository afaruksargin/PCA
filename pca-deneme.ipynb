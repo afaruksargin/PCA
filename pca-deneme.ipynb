{
 "cells": [
  {
   "cell_type": "code",
   "execution_count": 1,
   "id": "b9fc1a2d",
   "metadata": {
    "_cell_guid": "b1076dfc-b9ad-4769-8c92-a6c4dae69d19",
    "_uuid": "8f2839f25d086af736a60e9eeb907d3b93b6e0e5",
    "execution": {
     "iopub.execute_input": "2023-03-16T13:44:05.822778Z",
     "iopub.status.busy": "2023-03-16T13:44:05.822154Z",
     "iopub.status.idle": "2023-03-16T13:44:05.847444Z",
     "shell.execute_reply": "2023-03-16T13:44:05.846182Z"
    },
    "papermill": {
     "duration": 0.043741,
     "end_time": "2023-03-16T13:44:05.854581",
     "exception": false,
     "start_time": "2023-03-16T13:44:05.810840",
     "status": "completed"
    },
    "tags": []
   },
   "outputs": [
    {
     "name": "stdout",
     "output_type": "stream",
     "text": [
      "/kaggle/input/iris-flower-dataset/IRIS.csv\n"
     ]
    }
   ],
   "source": [
    "# This Python 3 environment comes with many helpful analytics libraries installed\n",
    "# It is defined by the kaggle/python Docker image: https://github.com/kaggle/docker-python\n",
    "# For example, here's several helpful packages to load\n",
    "\n",
    "import numpy as np # linear algebra\n",
    "import pandas as pd # data processing, CSV file I/O (e.g. pd.read_csv)\n",
    "\n",
    "# Input data files are available in the read-only \"../input/\" directory\n",
    "# For example, running this (by clicking run or pressing Shift+Enter) will list all files under the input directory\n",
    "\n",
    "import os\n",
    "for dirname, _, filenames in os.walk('/kaggle/input'):\n",
    "    for filename in filenames:\n",
    "        print(os.path.join(dirname, filename))\n",
    "\n",
    "# You can write up to 20GB to the current directory (/kaggle/working/) that gets preserved as output when you create a version using \"Save & Run All\" \n",
    "# You can also write temporary files to /kaggle/temp/, but they won't be saved outside of the current session"
   ]
  },
  {
   "cell_type": "code",
   "execution_count": 2,
   "id": "aa117202",
   "metadata": {
    "execution": {
     "iopub.execute_input": "2023-03-16T13:44:05.866473Z",
     "iopub.status.busy": "2023-03-16T13:44:05.865887Z",
     "iopub.status.idle": "2023-03-16T13:44:05.872598Z",
     "shell.execute_reply": "2023-03-16T13:44:05.871155Z"
    },
    "papermill": {
     "duration": 0.016374,
     "end_time": "2023-03-16T13:44:05.875945",
     "exception": false,
     "start_time": "2023-03-16T13:44:05.859571",
     "status": "completed"
    },
    "tags": []
   },
   "outputs": [],
   "source": [
    "import matplotlib.pyplot as plt"
   ]
  },
  {
   "cell_type": "code",
   "execution_count": 3,
   "id": "ea3444df",
   "metadata": {
    "execution": {
     "iopub.execute_input": "2023-03-16T13:44:05.888086Z",
     "iopub.status.busy": "2023-03-16T13:44:05.887604Z",
     "iopub.status.idle": "2023-03-16T13:44:05.909880Z",
     "shell.execute_reply": "2023-03-16T13:44:05.908161Z"
    },
    "papermill": {
     "duration": 0.031395,
     "end_time": "2023-03-16T13:44:05.912942",
     "exception": false,
     "start_time": "2023-03-16T13:44:05.881547",
     "status": "completed"
    },
    "tags": []
   },
   "outputs": [],
   "source": [
    "data = pd.read_csv(\"/kaggle/input/iris-flower-dataset/IRIS.csv\")"
   ]
  },
  {
   "cell_type": "code",
   "execution_count": 4,
   "id": "d604b921",
   "metadata": {
    "execution": {
     "iopub.execute_input": "2023-03-16T13:44:05.924286Z",
     "iopub.status.busy": "2023-03-16T13:44:05.923856Z",
     "iopub.status.idle": "2023-03-16T13:44:05.970087Z",
     "shell.execute_reply": "2023-03-16T13:44:05.968730Z"
    },
    "papermill": {
     "duration": 0.055652,
     "end_time": "2023-03-16T13:44:05.973290",
     "exception": false,
     "start_time": "2023-03-16T13:44:05.917638",
     "status": "completed"
    },
    "tags": []
   },
   "outputs": [
    {
     "data": {
      "text/html": [
       "<div>\n",
       "<style scoped>\n",
       "    .dataframe tbody tr th:only-of-type {\n",
       "        vertical-align: middle;\n",
       "    }\n",
       "\n",
       "    .dataframe tbody tr th {\n",
       "        vertical-align: top;\n",
       "    }\n",
       "\n",
       "    .dataframe thead th {\n",
       "        text-align: right;\n",
       "    }\n",
       "</style>\n",
       "<table border=\"1\" class=\"dataframe\">\n",
       "  <thead>\n",
       "    <tr style=\"text-align: right;\">\n",
       "      <th></th>\n",
       "      <th>sepal_length</th>\n",
       "      <th>sepal_width</th>\n",
       "      <th>petal_length</th>\n",
       "      <th>petal_width</th>\n",
       "      <th>species</th>\n",
       "    </tr>\n",
       "  </thead>\n",
       "  <tbody>\n",
       "    <tr>\n",
       "      <th>0</th>\n",
       "      <td>5.1</td>\n",
       "      <td>3.5</td>\n",
       "      <td>1.4</td>\n",
       "      <td>0.2</td>\n",
       "      <td>Iris-setosa</td>\n",
       "    </tr>\n",
       "    <tr>\n",
       "      <th>1</th>\n",
       "      <td>4.9</td>\n",
       "      <td>3.0</td>\n",
       "      <td>1.4</td>\n",
       "      <td>0.2</td>\n",
       "      <td>Iris-setosa</td>\n",
       "    </tr>\n",
       "    <tr>\n",
       "      <th>2</th>\n",
       "      <td>4.7</td>\n",
       "      <td>3.2</td>\n",
       "      <td>1.3</td>\n",
       "      <td>0.2</td>\n",
       "      <td>Iris-setosa</td>\n",
       "    </tr>\n",
       "    <tr>\n",
       "      <th>3</th>\n",
       "      <td>4.6</td>\n",
       "      <td>3.1</td>\n",
       "      <td>1.5</td>\n",
       "      <td>0.2</td>\n",
       "      <td>Iris-setosa</td>\n",
       "    </tr>\n",
       "    <tr>\n",
       "      <th>4</th>\n",
       "      <td>5.0</td>\n",
       "      <td>3.6</td>\n",
       "      <td>1.4</td>\n",
       "      <td>0.2</td>\n",
       "      <td>Iris-setosa</td>\n",
       "    </tr>\n",
       "  </tbody>\n",
       "</table>\n",
       "</div>"
      ],
      "text/plain": [
       "   sepal_length  sepal_width  petal_length  petal_width      species\n",
       "0           5.1          3.5           1.4          0.2  Iris-setosa\n",
       "1           4.9          3.0           1.4          0.2  Iris-setosa\n",
       "2           4.7          3.2           1.3          0.2  Iris-setosa\n",
       "3           4.6          3.1           1.5          0.2  Iris-setosa\n",
       "4           5.0          3.6           1.4          0.2  Iris-setosa"
      ]
     },
     "execution_count": 4,
     "metadata": {},
     "output_type": "execute_result"
    }
   ],
   "source": [
    "data.head()"
   ]
  },
  {
   "cell_type": "code",
   "execution_count": 5,
   "id": "68374d55",
   "metadata": {
    "execution": {
     "iopub.execute_input": "2023-03-16T13:44:05.986393Z",
     "iopub.status.busy": "2023-03-16T13:44:05.985789Z",
     "iopub.status.idle": "2023-03-16T13:44:05.999075Z",
     "shell.execute_reply": "2023-03-16T13:44:05.997941Z"
    },
    "papermill": {
     "duration": 0.024377,
     "end_time": "2023-03-16T13:44:06.002591",
     "exception": false,
     "start_time": "2023-03-16T13:44:05.978214",
     "status": "completed"
    },
    "tags": []
   },
   "outputs": [],
   "source": [
    "X = data.drop(\"species\", axis = 1)\n",
    "y = data.species"
   ]
  },
  {
   "cell_type": "markdown",
   "id": "621a01cb",
   "metadata": {
    "papermill": {
     "duration": 0.00493,
     "end_time": "2023-03-16T13:44:06.014111",
     "exception": false,
     "start_time": "2023-03-16T13:44:06.009181",
     "status": "completed"
    },
    "tags": []
   },
   "source": [
    "# <center>  STANDARTİZİSYON <center>"
   ]
  },
  {
   "cell_type": "code",
   "execution_count": 6,
   "id": "f431e328",
   "metadata": {
    "execution": {
     "iopub.execute_input": "2023-03-16T13:44:06.028566Z",
     "iopub.status.busy": "2023-03-16T13:44:06.027086Z",
     "iopub.status.idle": "2023-03-16T13:44:07.336130Z",
     "shell.execute_reply": "2023-03-16T13:44:07.334712Z"
    },
    "papermill": {
     "duration": 1.319318,
     "end_time": "2023-03-16T13:44:07.339229",
     "exception": false,
     "start_time": "2023-03-16T13:44:06.019911",
     "status": "completed"
    },
    "tags": []
   },
   "outputs": [],
   "source": [
    "from sklearn.preprocessing import StandardScaler\n",
    "sc = StandardScaler()"
   ]
  },
  {
   "cell_type": "code",
   "execution_count": 7,
   "id": "e40efa7d",
   "metadata": {
    "execution": {
     "iopub.execute_input": "2023-03-16T13:44:07.351144Z",
     "iopub.status.busy": "2023-03-16T13:44:07.350723Z",
     "iopub.status.idle": "2023-03-16T13:44:07.361071Z",
     "shell.execute_reply": "2023-03-16T13:44:07.359669Z"
    },
    "papermill": {
     "duration": 0.01957,
     "end_time": "2023-03-16T13:44:07.363817",
     "exception": false,
     "start_time": "2023-03-16T13:44:07.344247",
     "status": "completed"
    },
    "tags": []
   },
   "outputs": [],
   "source": [
    "X1 = sc.fit_transform(X)"
   ]
  },
  {
   "cell_type": "markdown",
   "id": "c07eaad3",
   "metadata": {
    "papermill": {
     "duration": 0.004526,
     "end_time": "2023-03-16T13:44:07.373322",
     "exception": false,
     "start_time": "2023-03-16T13:44:07.368796",
     "status": "completed"
    },
    "tags": []
   },
   "source": [
    "# <center>  DEGİSKEN AZALTMA PCA <center>"
   ]
  },
  {
   "cell_type": "code",
   "execution_count": 8,
   "id": "15cd25fc",
   "metadata": {
    "execution": {
     "iopub.execute_input": "2023-03-16T13:44:07.385392Z",
     "iopub.status.busy": "2023-03-16T13:44:07.384545Z",
     "iopub.status.idle": "2023-03-16T13:44:07.680612Z",
     "shell.execute_reply": "2023-03-16T13:44:07.679120Z"
    },
    "papermill": {
     "duration": 0.305426,
     "end_time": "2023-03-16T13:44:07.683522",
     "exception": false,
     "start_time": "2023-03-16T13:44:07.378096",
     "status": "completed"
    },
    "tags": []
   },
   "outputs": [
    {
     "data": {
      "text/html": [
       "<div>\n",
       "<style scoped>\n",
       "    .dataframe tbody tr th:only-of-type {\n",
       "        vertical-align: middle;\n",
       "    }\n",
       "\n",
       "    .dataframe tbody tr th {\n",
       "        vertical-align: top;\n",
       "    }\n",
       "\n",
       "    .dataframe thead th {\n",
       "        text-align: right;\n",
       "    }\n",
       "</style>\n",
       "<table border=\"1\" class=\"dataframe\">\n",
       "  <thead>\n",
       "    <tr style=\"text-align: right;\">\n",
       "      <th></th>\n",
       "      <th>0</th>\n",
       "      <th>1</th>\n",
       "    </tr>\n",
       "  </thead>\n",
       "  <tbody>\n",
       "    <tr>\n",
       "      <th>0</th>\n",
       "      <td>-2.264542</td>\n",
       "      <td>0.505704</td>\n",
       "    </tr>\n",
       "    <tr>\n",
       "      <th>1</th>\n",
       "      <td>-2.086426</td>\n",
       "      <td>-0.655405</td>\n",
       "    </tr>\n",
       "    <tr>\n",
       "      <th>2</th>\n",
       "      <td>-2.367950</td>\n",
       "      <td>-0.318477</td>\n",
       "    </tr>\n",
       "    <tr>\n",
       "      <th>3</th>\n",
       "      <td>-2.304197</td>\n",
       "      <td>-0.575368</td>\n",
       "    </tr>\n",
       "    <tr>\n",
       "      <th>4</th>\n",
       "      <td>-2.388777</td>\n",
       "      <td>0.674767</td>\n",
       "    </tr>\n",
       "  </tbody>\n",
       "</table>\n",
       "</div>"
      ],
      "text/plain": [
       "          0         1\n",
       "0 -2.264542  0.505704\n",
       "1 -2.086426 -0.655405\n",
       "2 -2.367950 -0.318477\n",
       "3 -2.304197 -0.575368\n",
       "4 -2.388777  0.674767"
      ]
     },
     "execution_count": 8,
     "metadata": {},
     "output_type": "execute_result"
    }
   ],
   "source": [
    "from sklearn.decomposition import PCA\n",
    "pca = PCA(n_components = 2)\n",
    "principalComponent = pca.fit_transform(X1)\n",
    "princalComponentDF = pd.DataFrame(data = principalComponent )\n",
    "princalComponentDF.head()"
   ]
  },
  {
   "cell_type": "markdown",
   "id": "09c43573",
   "metadata": {
    "papermill": {
     "duration": 0.004808,
     "end_time": "2023-03-16T13:44:07.693582",
     "exception": false,
     "start_time": "2023-03-16T13:44:07.688774",
     "status": "completed"
    },
    "tags": []
   },
   "source": [
    "# <center>  MODEL KURMA (PCA) <center>"
   ]
  },
  {
   "cell_type": "code",
   "execution_count": 9,
   "id": "181876e3",
   "metadata": {
    "execution": {
     "iopub.execute_input": "2023-03-16T13:44:07.705566Z",
     "iopub.status.busy": "2023-03-16T13:44:07.705128Z",
     "iopub.status.idle": "2023-03-16T13:44:07.713807Z",
     "shell.execute_reply": "2023-03-16T13:44:07.712714Z"
    },
    "papermill": {
     "duration": 0.017675,
     "end_time": "2023-03-16T13:44:07.716293",
     "exception": false,
     "start_time": "2023-03-16T13:44:07.698618",
     "status": "completed"
    },
    "tags": []
   },
   "outputs": [],
   "source": [
    "from sklearn.model_selection import train_test_split\n",
    "X_train, X_test, y_train, y_test = train_test_split(X1,y,test_size=0.3,random_state=10)"
   ]
  },
  {
   "cell_type": "code",
   "execution_count": 10,
   "id": "f939a6a3",
   "metadata": {
    "execution": {
     "iopub.execute_input": "2023-03-16T13:44:07.729144Z",
     "iopub.status.busy": "2023-03-16T13:44:07.727825Z",
     "iopub.status.idle": "2023-03-16T13:44:07.807571Z",
     "shell.execute_reply": "2023-03-16T13:44:07.805501Z"
    },
    "papermill": {
     "duration": 0.089772,
     "end_time": "2023-03-16T13:44:07.811293",
     "exception": false,
     "start_time": "2023-03-16T13:44:07.721521",
     "status": "completed"
    },
    "tags": []
   },
   "outputs": [
    {
     "name": "stdout",
     "output_type": "stream",
     "text": [
      "The accuracy of the knn classifier is 0.96 out of 1 on training data\n",
      "The accuracy of the knn classifier is 0.96 out of 1 on test data\n"
     ]
    }
   ],
   "source": [
    "from sklearn.neighbors import KNeighborsClassifier\n",
    "knn = KNeighborsClassifier(n_neighbors=5, p=2, metric='minkowski')\n",
    "knn.fit(X_train, y_train)\n",
    "\n",
    "print('The accuracy of the knn classifier is {:.2f} out of 1 on training data'.format(knn.score(X_train, y_train)))\n",
    "print('The accuracy of the knn classifier is {:.2f} out of 1 on test data'.format(knn.score(X_test, y_test)))"
   ]
  },
  {
   "cell_type": "markdown",
   "id": "deefaeeb",
   "metadata": {
    "papermill": {
     "duration": 0.005031,
     "end_time": "2023-03-16T13:44:07.821801",
     "exception": false,
     "start_time": "2023-03-16T13:44:07.816770",
     "status": "completed"
    },
    "tags": []
   },
   "source": [
    "# <center>  MODEL STANDART <center>"
   ]
  },
  {
   "cell_type": "code",
   "execution_count": 11,
   "id": "3b8b52c9",
   "metadata": {
    "execution": {
     "iopub.execute_input": "2023-03-16T13:44:07.835045Z",
     "iopub.status.busy": "2023-03-16T13:44:07.834620Z",
     "iopub.status.idle": "2023-03-16T13:44:07.844129Z",
     "shell.execute_reply": "2023-03-16T13:44:07.843092Z"
    },
    "papermill": {
     "duration": 0.019433,
     "end_time": "2023-03-16T13:44:07.847030",
     "exception": false,
     "start_time": "2023-03-16T13:44:07.827597",
     "status": "completed"
    },
    "tags": []
   },
   "outputs": [],
   "source": [
    "X_train, X_test, y_train, y_test = train_test_split(X,y,test_size=0.3,random_state=10)"
   ]
  },
  {
   "cell_type": "code",
   "execution_count": 12,
   "id": "c905fcbc",
   "metadata": {
    "execution": {
     "iopub.execute_input": "2023-03-16T13:44:07.859981Z",
     "iopub.status.busy": "2023-03-16T13:44:07.859125Z",
     "iopub.status.idle": "2023-03-16T13:44:07.878665Z",
     "shell.execute_reply": "2023-03-16T13:44:07.876960Z"
    },
    "papermill": {
     "duration": 0.030452,
     "end_time": "2023-03-16T13:44:07.882768",
     "exception": false,
     "start_time": "2023-03-16T13:44:07.852316",
     "status": "completed"
    },
    "tags": []
   },
   "outputs": [
    {
     "name": "stdout",
     "output_type": "stream",
     "text": [
      "The accuracy of the knn classifier is 0.97 out of 1 on training data\n",
      "The accuracy of the knn classifier is 0.98 out of 1 on test data\n"
     ]
    }
   ],
   "source": [
    "knn = KNeighborsClassifier(n_neighbors=5, p=2, metric='minkowski')\n",
    "knn.fit(X_train, y_train)\n",
    "\n",
    "print('The accuracy of the knn classifier is {:.2f} out of 1 on training data'.format(knn.score(X_train, y_train)))\n",
    "print('The accuracy of the knn classifier is {:.2f} out of 1 on test data'.format(knn.score(X_test, y_test)))"
   ]
  }
 ],
 "metadata": {
  "kernelspec": {
   "display_name": "Python 3",
   "language": "python",
   "name": "python3"
  },
  "language_info": {
   "codemirror_mode": {
    "name": "ipython",
    "version": 3
   },
   "file_extension": ".py",
   "mimetype": "text/x-python",
   "name": "python",
   "nbconvert_exporter": "python",
   "pygments_lexer": "ipython3",
   "version": "3.7.12"
  },
  "papermill": {
   "default_parameters": {},
   "duration": 14.956415,
   "end_time": "2023-03-16T13:44:08.713256",
   "environment_variables": {},
   "exception": null,
   "input_path": "__notebook__.ipynb",
   "output_path": "__notebook__.ipynb",
   "parameters": {},
   "start_time": "2023-03-16T13:43:53.756841",
   "version": "2.4.0"
  }
 },
 "nbformat": 4,
 "nbformat_minor": 5
}
